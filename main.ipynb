{
 "cells": [
  {
   "cell_type": "code",
   "execution_count": 7,
   "metadata": {},
   "outputs": [],
   "source": [
    "import os\n",
    "import csv\n",
    "from kaggle.api.kaggle_api_extended import KaggleApi\n",
    "api = KaggleApi()\n",
    "api.authenticate()"
   ]
  },
  {
   "cell_type": "code",
   "execution_count": 8,
   "metadata": {},
   "outputs": [],
   "source": [
    "# if os.path.exists(\"stats.csv\"):\n",
    "#     os.remove(\"stats.csv\")\n",
    "# if os.path.exists(\"abilities.csv\"):\n",
    "#     os.remove(\"abilities.csv\")\n",
    "api.dataset_download_file('dannielr/marvel-superheroes', 'charcters_stats.csv')\n",
    "api.dataset_download_file('dannielr/marvel-superheroes', 'superheroes_power_matrix.csv')\n",
    "os.rename(\"charcters_stats.csv\", \"stats.csv\")\n",
    "os.rename(\"superheroes_power_matrix.csv\", \"abilities.csv\")"
   ]
  }
 ],
 "metadata": {
  "interpreter": {
   "hash": "53b144c10255056ba138318079d6915f61635f604f049884bb1cb292c1bb44d7"
  },
  "kernelspec": {
   "display_name": "Python 3.9.7 64-bit ('base': conda)",
   "language": "python",
   "name": "python3"
  },
  "language_info": {
   "codemirror_mode": {
    "name": "ipython",
    "version": 3
   },
   "file_extension": ".py",
   "mimetype": "text/x-python",
   "name": "python",
   "nbconvert_exporter": "python",
   "pygments_lexer": "ipython3",
   "version": "3.9.7"
  },
  "orig_nbformat": 4
 },
 "nbformat": 4,
 "nbformat_minor": 2
}
